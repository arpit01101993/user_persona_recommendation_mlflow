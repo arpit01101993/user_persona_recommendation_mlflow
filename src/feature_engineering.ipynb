{
 "cells": [
  {
   "cell_type": "code",
   "execution_count": 4,
   "id": "a6f7441c",
   "metadata": {},
   "outputs": [
    {
     "name": "stdout",
     "output_type": "stream",
     "text": [
      "Loaded product_views: (10000, 8)\n",
      "Loaded add_to_cart: (10000, 9)\n",
      "Loaded ad_clicks: (10000, 8)\n",
      "Generated dummy user profile: (10000, 4)\n",
      "Final feature snapshot:\n",
      "                                user_id loyalty_status location device_type  \\\n",
      "0  1061988f-b92e-4f6c-b95b-5ccb02446533           Gold       US      mobile   \n",
      "1  7d82f638-48de-4fe1-86f1-9940465ae416           Gold       US      mobile   \n",
      "2  687e14d2-4f6f-4766-ab6b-b18f7e72838e           Gold       US      mobile   \n",
      "3  5acc33ec-68d4-47a9-93e2-fdbaa957a273           Gold       US      mobile   \n",
      "4  53f56fa2-bde7-4c7a-bffc-c7966216819b           Gold       US      mobile   \n",
      "\n",
      "   views_count  cart_count  ad_click_count  label  \n",
      "0            1         0.0             0.0      0  \n",
      "1            1         0.0             0.0      0  \n",
      "2            1         0.0             0.0      0  \n",
      "3            1         0.0             0.0      0  \n",
      "4            1         0.0             0.0      0  \n",
      "Features saved to data/processed/features.parquet\n"
     ]
    }
   ],
   "source": [
    "import pandas as pd\n",
    "\n",
    "# Read raw clickstream CSVs\n",
    "df_views = pd.read_csv(\"./data/raw/product_views.csv\")\n",
    "df_cart = pd.read_csv(\"./data/raw/add_to_cart.csv\")\n",
    "df_ads = pd.read_csv(\"./data/raw/ad_clicks.csv\")\n",
    "\n",
    "print(f\"Loaded product_views: {df_views.shape}\")\n",
    "print(f\"Loaded add_to_cart: {df_cart.shape}\")\n",
    "print(f\"Loaded ad_clicks: {df_ads.shape}\")\n",
    "\n",
    "# Example: Load user profile\n",
    "# Replace with your actual user profile file\n",
    "df_profile = pd.DataFrame({\n",
    "    \"user_id\": df_views[\"user_id\"].unique(),\n",
    "    \"loyalty_status\": [\"Gold\"] * len(df_views[\"user_id\"].unique()),\n",
    "    \"location\": [\"US\"] * len(df_views[\"user_id\"].unique()),\n",
    "    \"device_type\": [\"mobile\"] * len(df_views[\"user_id\"].unique())\n",
    "})\n",
    "\n",
    "print(f\"Generated dummy user profile: {df_profile.shape}\")\n",
    "\n",
    "# Merge events: example features\n",
    "# 1) Count page views per user\n",
    "views_per_user = df_views.groupby(\"user_id\").agg(\n",
    "    views_count=(\"event_id\", \"count\")\n",
    ").reset_index()\n",
    "\n",
    "# 2) Count add-to-cart events per user\n",
    "cart_per_user = df_cart.groupby(\"user_id\").agg(\n",
    "    cart_count=(\"event_id\", \"count\")\n",
    ").reset_index()\n",
    "\n",
    "# 3) Count ad clicks per user\n",
    "ads_per_user = df_ads.groupby(\"user_id\").agg(\n",
    "    ad_click_count=(\"event_id\", \"count\")\n",
    ").reset_index()\n",
    "\n",
    "# Merge all counts\n",
    "features = df_profile \\\n",
    "    .merge(views_per_user, on=\"user_id\", how=\"left\") \\\n",
    "    .merge(cart_per_user, on=\"user_id\", how=\"left\") \\\n",
    "    .merge(ads_per_user, on=\"user_id\", how=\"left\")\n",
    "\n",
    "# Fill NaNs with zero where events didn’t occur\n",
    "features.fillna(0, inplace=True)\n",
    "\n",
    "# Add simple binary label for demonstration\n",
    "# Example: if user did any add-to-cart → label = 1\n",
    "features[\"label\"] = features[\"cart_count\"].apply(lambda x: 1 if x > 0 else 0)\n",
    "\n",
    "print(\"Final feature snapshot:\")\n",
    "print(features.head())\n",
    "\n",
    "# Save features as Parquet for train.py\n",
    "features.to_parquet(\"./data/processed/features.parquet\", index=False)\n",
    "print(\"Features saved to data/processed/features.parquet\")\n"
   ]
  },
  {
   "cell_type": "code",
   "execution_count": null,
   "id": "921a7ffe",
   "metadata": {},
   "outputs": [],
   "source": []
  }
 ],
 "metadata": {
  "kernelspec": {
   "display_name": "venv",
   "language": "python",
   "name": "python3"
  },
  "language_info": {
   "codemirror_mode": {
    "name": "ipython",
    "version": 3
   },
   "file_extension": ".py",
   "mimetype": "text/x-python",
   "name": "python",
   "nbconvert_exporter": "python",
   "pygments_lexer": "ipython3",
   "version": "3.13.5"
  }
 },
 "nbformat": 4,
 "nbformat_minor": 5
}
